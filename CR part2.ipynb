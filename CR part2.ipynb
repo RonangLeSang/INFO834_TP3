{
 "cells": [
  {
   "cell_type": "code",
   "execution_count": 163,
   "id": "initial_id",
   "metadata": {
    "collapsed": true,
    "ExecuteTime": {
     "end_time": "2024-02-12T10:52:07.525904400Z",
     "start_time": "2024-02-12T10:52:07.476814700Z"
    }
   },
   "outputs": [],
   "source": [
    "from neo4j import GraphDatabase\n",
    "import pandas as pd"
   ]
  },
  {
   "cell_type": "code",
   "execution_count": 164,
   "outputs": [],
   "source": [
    "# connexion à la BDD\n",
    "uri             = \"bolt://localhost:7687\"\n",
    "userName        = \"neo4j\"\n",
    "password        = \"neo4j\"\n",
    "\n",
    "\n",
    "graphDB_Driver = GraphDatabase.driver(uri, auth=(userName, password))"
   ],
   "metadata": {
    "collapsed": false,
    "ExecuteTime": {
     "end_time": "2024-02-12T10:52:07.578308200Z",
     "start_time": "2024-02-12T10:52:07.486864500Z"
    }
   },
   "id": "45b5016e40af971c"
  },
  {
   "cell_type": "code",
   "execution_count": 165,
   "outputs": [
    {
     "data": {
      "text/plain": "  code_commune_INSEE       nom_commune_postal  code_postal  \\\n0               1001  L ABERGEMENT CLEMENCIAT         1400   \n1               1002    L ABERGEMENT DE VAREY         1640   \n2               1004        AMBERIEU EN BUGEY         1500   \n3               1005      AMBERIEUX EN DOMBES         1330   \n4               1006                  AMBLEON         1300   \n\n      libelle_acheminement ligne_5   latitude  longitude  code_commune  \\\n0  L ABERGEMENT CLEMENCIAT     NaN  46.153426   4.926114           1.0   \n1    L ABERGEMENT DE VAREY     NaN  46.009188   5.428017           2.0   \n2        AMBERIEU EN BUGEY     NaN  45.960848   5.372926           4.0   \n3      AMBERIEUX EN DOMBES     NaN  45.996180   4.912273           5.0   \n4                  AMBLEON     NaN  45.749499   5.594320           6.0   \n\n  article            nom_commune      nom_commune_complet code_departement  \\\n0      L'  Abergement-Clémenciat  L'Abergement-Clémenciat                1   \n1      L'    Abergement-de-Varey    L'Abergement-de-Varey                1   \n2     NaN      Ambérieu-en-Bugey        Ambérieu-en-Bugey                1   \n3     NaN    Ambérieux-en-Dombes      Ambérieux-en-Dombes                1   \n4     NaN                Ambléon                  Ambléon                1   \n\n  nom_departement  code_region            nom_region  \n0             Ain         84.0  Auvergne-Rhône-Alpes  \n1             Ain         84.0  Auvergne-Rhône-Alpes  \n2             Ain         84.0  Auvergne-Rhône-Alpes  \n3             Ain         84.0  Auvergne-Rhône-Alpes  \n4             Ain         84.0  Auvergne-Rhône-Alpes  ",
      "text/html": "<div>\n<style scoped>\n    .dataframe tbody tr th:only-of-type {\n        vertical-align: middle;\n    }\n\n    .dataframe tbody tr th {\n        vertical-align: top;\n    }\n\n    .dataframe thead th {\n        text-align: right;\n    }\n</style>\n<table border=\"1\" class=\"dataframe\">\n  <thead>\n    <tr style=\"text-align: right;\">\n      <th></th>\n      <th>code_commune_INSEE</th>\n      <th>nom_commune_postal</th>\n      <th>code_postal</th>\n      <th>libelle_acheminement</th>\n      <th>ligne_5</th>\n      <th>latitude</th>\n      <th>longitude</th>\n      <th>code_commune</th>\n      <th>article</th>\n      <th>nom_commune</th>\n      <th>nom_commune_complet</th>\n      <th>code_departement</th>\n      <th>nom_departement</th>\n      <th>code_region</th>\n      <th>nom_region</th>\n    </tr>\n  </thead>\n  <tbody>\n    <tr>\n      <th>0</th>\n      <td>1001</td>\n      <td>L ABERGEMENT CLEMENCIAT</td>\n      <td>1400</td>\n      <td>L ABERGEMENT CLEMENCIAT</td>\n      <td>NaN</td>\n      <td>46.153426</td>\n      <td>4.926114</td>\n      <td>1.0</td>\n      <td>L'</td>\n      <td>Abergement-Clémenciat</td>\n      <td>L'Abergement-Clémenciat</td>\n      <td>1</td>\n      <td>Ain</td>\n      <td>84.0</td>\n      <td>Auvergne-Rhône-Alpes</td>\n    </tr>\n    <tr>\n      <th>1</th>\n      <td>1002</td>\n      <td>L ABERGEMENT DE VAREY</td>\n      <td>1640</td>\n      <td>L ABERGEMENT DE VAREY</td>\n      <td>NaN</td>\n      <td>46.009188</td>\n      <td>5.428017</td>\n      <td>2.0</td>\n      <td>L'</td>\n      <td>Abergement-de-Varey</td>\n      <td>L'Abergement-de-Varey</td>\n      <td>1</td>\n      <td>Ain</td>\n      <td>84.0</td>\n      <td>Auvergne-Rhône-Alpes</td>\n    </tr>\n    <tr>\n      <th>2</th>\n      <td>1004</td>\n      <td>AMBERIEU EN BUGEY</td>\n      <td>1500</td>\n      <td>AMBERIEU EN BUGEY</td>\n      <td>NaN</td>\n      <td>45.960848</td>\n      <td>5.372926</td>\n      <td>4.0</td>\n      <td>NaN</td>\n      <td>Ambérieu-en-Bugey</td>\n      <td>Ambérieu-en-Bugey</td>\n      <td>1</td>\n      <td>Ain</td>\n      <td>84.0</td>\n      <td>Auvergne-Rhône-Alpes</td>\n    </tr>\n    <tr>\n      <th>3</th>\n      <td>1005</td>\n      <td>AMBERIEUX EN DOMBES</td>\n      <td>1330</td>\n      <td>AMBERIEUX EN DOMBES</td>\n      <td>NaN</td>\n      <td>45.996180</td>\n      <td>4.912273</td>\n      <td>5.0</td>\n      <td>NaN</td>\n      <td>Ambérieux-en-Dombes</td>\n      <td>Ambérieux-en-Dombes</td>\n      <td>1</td>\n      <td>Ain</td>\n      <td>84.0</td>\n      <td>Auvergne-Rhône-Alpes</td>\n    </tr>\n    <tr>\n      <th>4</th>\n      <td>1006</td>\n      <td>AMBLEON</td>\n      <td>1300</td>\n      <td>AMBLEON</td>\n      <td>NaN</td>\n      <td>45.749499</td>\n      <td>5.594320</td>\n      <td>6.0</td>\n      <td>NaN</td>\n      <td>Ambléon</td>\n      <td>Ambléon</td>\n      <td>1</td>\n      <td>Ain</td>\n      <td>84.0</td>\n      <td>Auvergne-Rhône-Alpes</td>\n    </tr>\n  </tbody>\n</table>\n</div>"
     },
     "execution_count": 165,
     "metadata": {},
     "output_type": "execute_result"
    }
   ],
   "source": [
    "# chargement du csv\n",
    "csv_file_path = \"Data/communes-departement-region.csv\"\n",
    "chunk_size = 1000\n",
    "chunks = []\n",
    "\n",
    "for chunk in pd.read_csv(csv_file_path, chunksize=chunk_size):\n",
    "    chunks.append(chunk)\n",
    "    # break\n",
    "    \n",
    "df = pd.concat(chunks)\n",
    "df.head()"
   ],
   "metadata": {
    "collapsed": false,
    "ExecuteTime": {
     "end_time": "2024-02-12T10:52:07.885290500Z",
     "start_time": "2024-02-12T10:52:07.500878500Z"
    }
   },
   "id": "9af48c7029b87846"
  },
  {
   "cell_type": "code",
   "execution_count": 166,
   "outputs": [
    {
     "data": {
      "text/plain": "       code_region                  nom_region\n0             84.0        Auvergne-Rhône-Alpes\n457           32.0             Hauts-de-France\n1608          93.0  Provence-Alpes-Côte d'Azur\n2582          44.0                   Grand Est\n3086          76.0                   Occitanie\n4861          28.0                   Normandie\n5889          75.0          Nouvelle-Aquitaine\n6823          24.0         Centre-Val de Loire\n7406          27.0     Bourgogne-Franche-Comté\n8124          53.0                    Bretagne\n11847         94.0                       Corse\n17923         52.0            Pays de la Loire\n32613         11.0               Île-de-France\n38725          1.0                  Guadeloupe\n38763          2.0                  Martinique\n38801          3.0                      Guyane\n38826          4.0                  La Réunion\n38911          NaN                         NaN\n38914          6.0                     Mayotte",
      "text/html": "<div>\n<style scoped>\n    .dataframe tbody tr th:only-of-type {\n        vertical-align: middle;\n    }\n\n    .dataframe tbody tr th {\n        vertical-align: top;\n    }\n\n    .dataframe thead th {\n        text-align: right;\n    }\n</style>\n<table border=\"1\" class=\"dataframe\">\n  <thead>\n    <tr style=\"text-align: right;\">\n      <th></th>\n      <th>code_region</th>\n      <th>nom_region</th>\n    </tr>\n  </thead>\n  <tbody>\n    <tr>\n      <th>0</th>\n      <td>84.0</td>\n      <td>Auvergne-Rhône-Alpes</td>\n    </tr>\n    <tr>\n      <th>457</th>\n      <td>32.0</td>\n      <td>Hauts-de-France</td>\n    </tr>\n    <tr>\n      <th>1608</th>\n      <td>93.0</td>\n      <td>Provence-Alpes-Côte d'Azur</td>\n    </tr>\n    <tr>\n      <th>2582</th>\n      <td>44.0</td>\n      <td>Grand Est</td>\n    </tr>\n    <tr>\n      <th>3086</th>\n      <td>76.0</td>\n      <td>Occitanie</td>\n    </tr>\n    <tr>\n      <th>4861</th>\n      <td>28.0</td>\n      <td>Normandie</td>\n    </tr>\n    <tr>\n      <th>5889</th>\n      <td>75.0</td>\n      <td>Nouvelle-Aquitaine</td>\n    </tr>\n    <tr>\n      <th>6823</th>\n      <td>24.0</td>\n      <td>Centre-Val de Loire</td>\n    </tr>\n    <tr>\n      <th>7406</th>\n      <td>27.0</td>\n      <td>Bourgogne-Franche-Comté</td>\n    </tr>\n    <tr>\n      <th>8124</th>\n      <td>53.0</td>\n      <td>Bretagne</td>\n    </tr>\n    <tr>\n      <th>11847</th>\n      <td>94.0</td>\n      <td>Corse</td>\n    </tr>\n    <tr>\n      <th>17923</th>\n      <td>52.0</td>\n      <td>Pays de la Loire</td>\n    </tr>\n    <tr>\n      <th>32613</th>\n      <td>11.0</td>\n      <td>Île-de-France</td>\n    </tr>\n    <tr>\n      <th>38725</th>\n      <td>1.0</td>\n      <td>Guadeloupe</td>\n    </tr>\n    <tr>\n      <th>38763</th>\n      <td>2.0</td>\n      <td>Martinique</td>\n    </tr>\n    <tr>\n      <th>38801</th>\n      <td>3.0</td>\n      <td>Guyane</td>\n    </tr>\n    <tr>\n      <th>38826</th>\n      <td>4.0</td>\n      <td>La Réunion</td>\n    </tr>\n    <tr>\n      <th>38911</th>\n      <td>NaN</td>\n      <td>NaN</td>\n    </tr>\n    <tr>\n      <th>38914</th>\n      <td>6.0</td>\n      <td>Mayotte</td>\n    </tr>\n  </tbody>\n</table>\n</div>"
     },
     "execution_count": 166,
     "metadata": {},
     "output_type": "execute_result"
    }
   ],
   "source": [
    "# création d'un dataframe région\n",
    "regions = df[['code_region', 'nom_region']].drop_duplicates()\n",
    "regions"
   ],
   "metadata": {
    "collapsed": false,
    "ExecuteTime": {
     "end_time": "2024-02-12T10:52:07.943274100Z",
     "start_time": "2024-02-12T10:52:07.874703Z"
    }
   },
   "id": "ee3afbc45f69f59f"
  },
  {
   "cell_type": "code",
   "execution_count": 167,
   "outputs": [
    {
     "data": {
      "text/plain": "      code_departement          nom_departement  code_region\n0                    1                      Ain         84.0\n457                  2                    Aisne         32.0\n1287                 3                   Allier         84.0\n1608                 4  Alpes-de-Haute-Provence         93.0\n1852                 5             Hautes-Alpes         93.0\n...                ...                      ...          ...\n38911               97                      NaN          NaN\n38914              976                  Mayotte          6.0\n38939               98                      NaN          NaN\n39162              NaN                      NaN          NaN\n39200             99.0                      NaN          NaN\n\n[107 rows x 3 columns]",
      "text/html": "<div>\n<style scoped>\n    .dataframe tbody tr th:only-of-type {\n        vertical-align: middle;\n    }\n\n    .dataframe tbody tr th {\n        vertical-align: top;\n    }\n\n    .dataframe thead th {\n        text-align: right;\n    }\n</style>\n<table border=\"1\" class=\"dataframe\">\n  <thead>\n    <tr style=\"text-align: right;\">\n      <th></th>\n      <th>code_departement</th>\n      <th>nom_departement</th>\n      <th>code_region</th>\n    </tr>\n  </thead>\n  <tbody>\n    <tr>\n      <th>0</th>\n      <td>1</td>\n      <td>Ain</td>\n      <td>84.0</td>\n    </tr>\n    <tr>\n      <th>457</th>\n      <td>2</td>\n      <td>Aisne</td>\n      <td>32.0</td>\n    </tr>\n    <tr>\n      <th>1287</th>\n      <td>3</td>\n      <td>Allier</td>\n      <td>84.0</td>\n    </tr>\n    <tr>\n      <th>1608</th>\n      <td>4</td>\n      <td>Alpes-de-Haute-Provence</td>\n      <td>93.0</td>\n    </tr>\n    <tr>\n      <th>1852</th>\n      <td>5</td>\n      <td>Hautes-Alpes</td>\n      <td>93.0</td>\n    </tr>\n    <tr>\n      <th>...</th>\n      <td>...</td>\n      <td>...</td>\n      <td>...</td>\n    </tr>\n    <tr>\n      <th>38911</th>\n      <td>97</td>\n      <td>NaN</td>\n      <td>NaN</td>\n    </tr>\n    <tr>\n      <th>38914</th>\n      <td>976</td>\n      <td>Mayotte</td>\n      <td>6.0</td>\n    </tr>\n    <tr>\n      <th>38939</th>\n      <td>98</td>\n      <td>NaN</td>\n      <td>NaN</td>\n    </tr>\n    <tr>\n      <th>39162</th>\n      <td>NaN</td>\n      <td>NaN</td>\n      <td>NaN</td>\n    </tr>\n    <tr>\n      <th>39200</th>\n      <td>99.0</td>\n      <td>NaN</td>\n      <td>NaN</td>\n    </tr>\n  </tbody>\n</table>\n<p>107 rows × 3 columns</p>\n</div>"
     },
     "execution_count": 167,
     "metadata": {},
     "output_type": "execute_result"
    }
   ],
   "source": [
    "# création d'un dataframe département\n",
    "departements = df[['code_departement', 'nom_departement', 'code_region']].drop_duplicates()\n",
    "departements"
   ],
   "metadata": {
    "collapsed": false,
    "ExecuteTime": {
     "end_time": "2024-02-12T10:52:08.033181Z",
     "start_time": "2024-02-12T10:52:07.899938200Z"
    }
   },
   "id": "30c83ee297391d32"
  },
  {
   "cell_type": "code",
   "execution_count": 168,
   "outputs": [
    {
     "data": {
      "text/plain": "      code_commune_INSEE       nom_commune_postal  code_postal  \\\n0                   1001  L ABERGEMENT CLEMENCIAT         1400   \n1                   1002    L ABERGEMENT DE VAREY         1640   \n2                   1004        AMBERIEU EN BUGEY         1500   \n3                   1005      AMBERIEUX EN DOMBES         1330   \n4                   1006                  AMBLEON         1300   \n...                  ...                      ...          ...   \n39196              98831                      VOH        98883   \n39197              98832                     YATE        98834   \n39198              98833                  KOUAOUA        98818   \n39199              98901        ILE DE CLIPPERTON        98799   \n39200              99138                   MONACO        98000   \n\n          libelle_acheminement   latitude  longitude  code_commune  \\\n0      L ABERGEMENT CLEMENCIAT  46.153426   4.926114           1.0   \n1        L ABERGEMENT DE VAREY  46.009188   5.428017           2.0   \n2            AMBERIEU EN BUGEY  45.960848   5.372926           4.0   \n3          AMBERIEUX EN DOMBES  45.996180   4.912273           5.0   \n4                      AMBLEON  45.749499   5.594320           6.0   \n...                        ...        ...        ...           ...   \n39196                    OUACO        NaN        NaN         831.0   \n39197                     YATE        NaN        NaN         832.0   \n39198                  KOUAOUA        NaN        NaN         833.0   \n39199        ILE DE CLIPPERTON        NaN        NaN         901.0   \n39200                   MONACO        NaN        NaN         138.0   \n\n           nom_commune_complet code_departement  \n0      L'Abergement-Clémenciat                1  \n1        L'Abergement-de-Varey                1  \n2            Ambérieu-en-Bugey                1  \n3          Ambérieux-en-Dombes                1  \n4                      Ambléon                1  \n...                        ...              ...  \n39196                      Voh             98.0  \n39197                     Yate             98.0  \n39198                  Kouaoua             98.0  \n39199        Ile de clipperton             98.0  \n39200                   Monaco             99.0  \n\n[36484 rows x 9 columns]",
      "text/html": "<div>\n<style scoped>\n    .dataframe tbody tr th:only-of-type {\n        vertical-align: middle;\n    }\n\n    .dataframe tbody tr th {\n        vertical-align: top;\n    }\n\n    .dataframe thead th {\n        text-align: right;\n    }\n</style>\n<table border=\"1\" class=\"dataframe\">\n  <thead>\n    <tr style=\"text-align: right;\">\n      <th></th>\n      <th>code_commune_INSEE</th>\n      <th>nom_commune_postal</th>\n      <th>code_postal</th>\n      <th>libelle_acheminement</th>\n      <th>latitude</th>\n      <th>longitude</th>\n      <th>code_commune</th>\n      <th>nom_commune_complet</th>\n      <th>code_departement</th>\n    </tr>\n  </thead>\n  <tbody>\n    <tr>\n      <th>0</th>\n      <td>1001</td>\n      <td>L ABERGEMENT CLEMENCIAT</td>\n      <td>1400</td>\n      <td>L ABERGEMENT CLEMENCIAT</td>\n      <td>46.153426</td>\n      <td>4.926114</td>\n      <td>1.0</td>\n      <td>L'Abergement-Clémenciat</td>\n      <td>1</td>\n    </tr>\n    <tr>\n      <th>1</th>\n      <td>1002</td>\n      <td>L ABERGEMENT DE VAREY</td>\n      <td>1640</td>\n      <td>L ABERGEMENT DE VAREY</td>\n      <td>46.009188</td>\n      <td>5.428017</td>\n      <td>2.0</td>\n      <td>L'Abergement-de-Varey</td>\n      <td>1</td>\n    </tr>\n    <tr>\n      <th>2</th>\n      <td>1004</td>\n      <td>AMBERIEU EN BUGEY</td>\n      <td>1500</td>\n      <td>AMBERIEU EN BUGEY</td>\n      <td>45.960848</td>\n      <td>5.372926</td>\n      <td>4.0</td>\n      <td>Ambérieu-en-Bugey</td>\n      <td>1</td>\n    </tr>\n    <tr>\n      <th>3</th>\n      <td>1005</td>\n      <td>AMBERIEUX EN DOMBES</td>\n      <td>1330</td>\n      <td>AMBERIEUX EN DOMBES</td>\n      <td>45.996180</td>\n      <td>4.912273</td>\n      <td>5.0</td>\n      <td>Ambérieux-en-Dombes</td>\n      <td>1</td>\n    </tr>\n    <tr>\n      <th>4</th>\n      <td>1006</td>\n      <td>AMBLEON</td>\n      <td>1300</td>\n      <td>AMBLEON</td>\n      <td>45.749499</td>\n      <td>5.594320</td>\n      <td>6.0</td>\n      <td>Ambléon</td>\n      <td>1</td>\n    </tr>\n    <tr>\n      <th>...</th>\n      <td>...</td>\n      <td>...</td>\n      <td>...</td>\n      <td>...</td>\n      <td>...</td>\n      <td>...</td>\n      <td>...</td>\n      <td>...</td>\n      <td>...</td>\n    </tr>\n    <tr>\n      <th>39196</th>\n      <td>98831</td>\n      <td>VOH</td>\n      <td>98883</td>\n      <td>OUACO</td>\n      <td>NaN</td>\n      <td>NaN</td>\n      <td>831.0</td>\n      <td>Voh</td>\n      <td>98.0</td>\n    </tr>\n    <tr>\n      <th>39197</th>\n      <td>98832</td>\n      <td>YATE</td>\n      <td>98834</td>\n      <td>YATE</td>\n      <td>NaN</td>\n      <td>NaN</td>\n      <td>832.0</td>\n      <td>Yate</td>\n      <td>98.0</td>\n    </tr>\n    <tr>\n      <th>39198</th>\n      <td>98833</td>\n      <td>KOUAOUA</td>\n      <td>98818</td>\n      <td>KOUAOUA</td>\n      <td>NaN</td>\n      <td>NaN</td>\n      <td>833.0</td>\n      <td>Kouaoua</td>\n      <td>98.0</td>\n    </tr>\n    <tr>\n      <th>39199</th>\n      <td>98901</td>\n      <td>ILE DE CLIPPERTON</td>\n      <td>98799</td>\n      <td>ILE DE CLIPPERTON</td>\n      <td>NaN</td>\n      <td>NaN</td>\n      <td>901.0</td>\n      <td>Ile de clipperton</td>\n      <td>98.0</td>\n    </tr>\n    <tr>\n      <th>39200</th>\n      <td>99138</td>\n      <td>MONACO</td>\n      <td>98000</td>\n      <td>MONACO</td>\n      <td>NaN</td>\n      <td>NaN</td>\n      <td>138.0</td>\n      <td>Monaco</td>\n      <td>99.0</td>\n    </tr>\n  </tbody>\n</table>\n<p>36484 rows × 9 columns</p>\n</div>"
     },
     "execution_count": 168,
     "metadata": {},
     "output_type": "execute_result"
    }
   ],
   "source": [
    "# création d'un dataframe ville\n",
    "villes = df[['code_commune_INSEE', 'nom_commune_postal', 'code_postal', 'libelle_acheminement', 'latitude', 'longitude', 'code_commune', 'nom_commune_complet', 'code_departement']].drop_duplicates()\n",
    "villes"
   ],
   "metadata": {
    "collapsed": false,
    "ExecuteTime": {
     "end_time": "2024-02-12T10:52:08.106561400Z",
     "start_time": "2024-02-12T10:52:07.926717700Z"
    }
   },
   "id": "b125e390a7097968"
  },
  {
   "cell_type": "code",
   "execution_count": 169,
   "outputs": [],
   "source": [
    "def reset_tables():\n",
    "    \"\"\"\n",
    "    Vide la base de données de toutes les régions, départements et villes\n",
    "    \"\"\"\n",
    "    with graphDB_Driver.session() as session:\n",
    "        session.run(\"MATCH (n:Region) DETACH DELETE n\")\n",
    "        session.run(\"MATCH (n:Department) DETACH DELETE n\")\n",
    "        session.run(\"MATCH (n:Ville) DETACH DELETE n\")\n",
    "\n",
    "# Call the function to reset tables\n",
    "reset_tables()"
   ],
   "metadata": {
    "collapsed": false,
    "ExecuteTime": {
     "end_time": "2024-02-12T10:52:10.073688100Z",
     "start_time": "2024-02-12T10:52:07.999279Z"
    }
   },
   "id": "12acffe29fa24de2"
  },
  {
   "cell_type": "code",
   "execution_count": 170,
   "outputs": [],
   "source": [
    "def create_region_node(dfRegions):\n",
    "    \"\"\"\n",
    "    Créé les nœuds région à partir d'un dataframe\n",
    "    \"\"\"\n",
    "    for region in dfRegions.index:\n",
    "        with graphDB_Driver.session() as session:\n",
    "            try:\n",
    "                code_region = int(dfRegions.loc[region, \"code_region\"])\n",
    "                region_name = dfRegions.loc[region, \"nom_region\"]\n",
    "                query = (\n",
    "                    \"MERGE (r:Region {code: $codeRegion, name: $regionName})\"\n",
    "                )\n",
    "                session.run(query, codeRegion=code_region, regionName=region_name)\n",
    "            except:\n",
    "                pass\n",
    "\n",
    "create_region_node(regions)\n"
   ],
   "metadata": {
    "collapsed": false,
    "ExecuteTime": {
     "end_time": "2024-02-12T10:52:10.150308300Z",
     "start_time": "2024-02-12T10:52:10.077316Z"
    }
   },
   "id": "eb9ef181992da7c9"
  },
  {
   "cell_type": "code",
   "execution_count": 171,
   "outputs": [],
   "source": [
    "def create_departments(dfDepartement):\n",
    "    \"\"\"\n",
    "    Créé les nœuds département à partir d'un dataframe et les relie aux régions\n",
    "    \"\"\"\n",
    "    with graphDB_Driver.session() as session:\n",
    "        for department in dfDepartement.index:\n",
    "            try:\n",
    "                code_departement = int(dfDepartement.loc[department, \"code_departement\"])\n",
    "                code_region = int(dfDepartement.loc[department, \"code_region\"])\n",
    "                departement_name = dfDepartement.loc[department, \"nom_departement\"]\n",
    "                query = (\n",
    "                    \"MERGE (d:Department {code: $code_departement, name: $departement_name})\"\n",
    "                )\n",
    "                session.run(query, code_departement=code_departement, departement_name=departement_name)\n",
    "                relationship_query = (\n",
    "                    \"MATCH (d:Department {code: $departmentCode})\"\n",
    "                    \" MATCH (r:Region {code: $regionCode})\"\n",
    "                    \" MERGE (d)-[:BELONGS_TO]->(r)\"\n",
    "                )\n",
    "                session.run(relationship_query, departmentCode=code_departement, regionCode=code_region)\n",
    "            except:\n",
    "                pass\n",
    "\n",
    "\n",
    "create_departments(departements)"
   ],
   "metadata": {
    "collapsed": false,
    "ExecuteTime": {
     "end_time": "2024-02-12T10:52:10.767917900Z",
     "start_time": "2024-02-12T10:52:10.155783600Z"
    }
   },
   "id": "c6e5527b4ea6ae19"
  },
  {
   "cell_type": "code",
   "execution_count": 172,
   "outputs": [
    {
     "ename": "ClientError",
     "evalue": "{code: Neo.ClientError.Statement.SemanticError} {message: Cannot merge the following node because of NaN property value for 'latitude': (:Ville {latitude: NaN})}",
     "output_type": "error",
     "traceback": [
      "\u001B[1;31m---------------------------------------------------------------------------\u001B[0m",
      "\u001B[1;31mClientError\u001B[0m                               Traceback (most recent call last)",
      "Cell \u001B[1;32mIn[172], line 23\u001B[0m\n\u001B[0;32m     16\u001B[0m             relationship_query \u001B[38;5;241m=\u001B[39m (\n\u001B[0;32m     17\u001B[0m                 \u001B[38;5;124m\"\u001B[39m\u001B[38;5;124mMATCH (v:Ville \u001B[39m\u001B[38;5;124m{\u001B[39m\u001B[38;5;124mcode_commune_INSEE: $code_commune_INSEE})\u001B[39m\u001B[38;5;124m\"\u001B[39m\n\u001B[0;32m     18\u001B[0m                 \u001B[38;5;124m\"\u001B[39m\u001B[38;5;124mMATCH (d:Department \u001B[39m\u001B[38;5;124m{\u001B[39m\u001B[38;5;124mcode: $departmentCode})\u001B[39m\u001B[38;5;124m\"\u001B[39m\n\u001B[0;32m     19\u001B[0m                 \u001B[38;5;124m\"\u001B[39m\u001B[38;5;124mMERGE (v)-[:IN]->(d)\u001B[39m\u001B[38;5;124m\"\u001B[39m\n\u001B[0;32m     20\u001B[0m             )\n\u001B[0;32m     21\u001B[0m             session\u001B[38;5;241m.\u001B[39mrun(relationship_query, code_commune_INSEE\u001B[38;5;241m=\u001B[39mcity_data[\u001B[38;5;124m\"\u001B[39m\u001B[38;5;124mcode_commune_INSEE\u001B[39m\u001B[38;5;124m\"\u001B[39m], departmentCode\u001B[38;5;241m=\u001B[39mcity_data[\u001B[38;5;124m\"\u001B[39m\u001B[38;5;124mcode_departement\u001B[39m\u001B[38;5;124m\"\u001B[39m])\n\u001B[1;32m---> 23\u001B[0m \u001B[43mcreate_cities\u001B[49m\u001B[43m(\u001B[49m\u001B[43mvilles\u001B[49m\u001B[43m)\u001B[49m\n",
      "Cell \u001B[1;32mIn[172], line 14\u001B[0m, in \u001B[0;36mcreate_cities\u001B[1;34m(dfCities)\u001B[0m\n\u001B[0;32m      3\u001B[0m \u001B[38;5;28;01mfor\u001B[39;00m _, city_data \u001B[38;5;129;01min\u001B[39;00m dfCities\u001B[38;5;241m.\u001B[39miterrows():\n\u001B[0;32m      4\u001B[0m     query \u001B[38;5;241m=\u001B[39m (\n\u001B[0;32m      5\u001B[0m         \u001B[38;5;124m\"\u001B[39m\u001B[38;5;124mMERGE (v:Ville \u001B[39m\u001B[38;5;124m{\u001B[39m\u001B[38;5;124mname: $nom_commune_postal, \u001B[39m\u001B[38;5;124m\"\u001B[39m\n\u001B[0;32m      6\u001B[0m         \u001B[38;5;124m\"\u001B[39m\u001B[38;5;124mcode_commune_INSEE: $code_commune_INSEE, \u001B[39m\u001B[38;5;124m\"\u001B[39m\n\u001B[1;32m   (...)\u001B[0m\n\u001B[0;32m     12\u001B[0m         \u001B[38;5;124m\"\u001B[39m\u001B[38;5;124mnom_commune_complet: $nom_commune_complet})\u001B[39m\u001B[38;5;124m\"\u001B[39m\n\u001B[0;32m     13\u001B[0m     )\n\u001B[1;32m---> 14\u001B[0m     \u001B[43msession\u001B[49m\u001B[38;5;241;43m.\u001B[39;49m\u001B[43mrun\u001B[49m\u001B[43m(\u001B[49m\u001B[43mquery\u001B[49m\u001B[43m,\u001B[49m\u001B[43m \u001B[49m\u001B[38;5;241;43m*\u001B[39;49m\u001B[38;5;241;43m*\u001B[39;49m\u001B[43mcity_data\u001B[49m\u001B[38;5;241;43m.\u001B[39;49m\u001B[43mto_dict\u001B[49m\u001B[43m(\u001B[49m\u001B[43m)\u001B[49m\u001B[43m)\u001B[49m\n\u001B[0;32m     16\u001B[0m     relationship_query \u001B[38;5;241m=\u001B[39m (\n\u001B[0;32m     17\u001B[0m         \u001B[38;5;124m\"\u001B[39m\u001B[38;5;124mMATCH (v:Ville \u001B[39m\u001B[38;5;124m{\u001B[39m\u001B[38;5;124mcode_commune_INSEE: $code_commune_INSEE})\u001B[39m\u001B[38;5;124m\"\u001B[39m\n\u001B[0;32m     18\u001B[0m         \u001B[38;5;124m\"\u001B[39m\u001B[38;5;124mMATCH (d:Department \u001B[39m\u001B[38;5;124m{\u001B[39m\u001B[38;5;124mcode: $departmentCode})\u001B[39m\u001B[38;5;124m\"\u001B[39m\n\u001B[0;32m     19\u001B[0m         \u001B[38;5;124m\"\u001B[39m\u001B[38;5;124mMERGE (v)-[:IN]->(d)\u001B[39m\u001B[38;5;124m\"\u001B[39m\n\u001B[0;32m     20\u001B[0m     )\n\u001B[0;32m     21\u001B[0m     session\u001B[38;5;241m.\u001B[39mrun(relationship_query, code_commune_INSEE\u001B[38;5;241m=\u001B[39mcity_data[\u001B[38;5;124m\"\u001B[39m\u001B[38;5;124mcode_commune_INSEE\u001B[39m\u001B[38;5;124m\"\u001B[39m], departmentCode\u001B[38;5;241m=\u001B[39mcity_data[\u001B[38;5;124m\"\u001B[39m\u001B[38;5;124mcode_departement\u001B[39m\u001B[38;5;124m\"\u001B[39m])\n",
      "File \u001B[1;32m~\\OneDrive\\Documents\\Polytech\\S8\\INFO834\\TP3\\venv\\bin\\python\\Lib\\site-packages\\neo4j\\_sync\\work\\session.py:313\u001B[0m, in \u001B[0;36mSession.run\u001B[1;34m(self, query, parameters, **kwargs)\u001B[0m\n\u001B[0;32m    311\u001B[0m bookmarks \u001B[38;5;241m=\u001B[39m \u001B[38;5;28mself\u001B[39m\u001B[38;5;241m.\u001B[39m_get_bookmarks()\n\u001B[0;32m    312\u001B[0m parameters \u001B[38;5;241m=\u001B[39m \u001B[38;5;28mdict\u001B[39m(parameters \u001B[38;5;129;01mor\u001B[39;00m {}, \u001B[38;5;241m*\u001B[39m\u001B[38;5;241m*\u001B[39mkwargs)\n\u001B[1;32m--> 313\u001B[0m \u001B[38;5;28;43mself\u001B[39;49m\u001B[38;5;241;43m.\u001B[39;49m\u001B[43m_auto_result\u001B[49m\u001B[38;5;241;43m.\u001B[39;49m\u001B[43m_run\u001B[49m\u001B[43m(\u001B[49m\n\u001B[0;32m    314\u001B[0m \u001B[43m    \u001B[49m\u001B[43mquery\u001B[49m\u001B[43m,\u001B[49m\u001B[43m \u001B[49m\u001B[43mparameters\u001B[49m\u001B[43m,\u001B[49m\u001B[43m \u001B[49m\u001B[38;5;28;43mself\u001B[39;49m\u001B[38;5;241;43m.\u001B[39;49m\u001B[43m_config\u001B[49m\u001B[38;5;241;43m.\u001B[39;49m\u001B[43mdatabase\u001B[49m\u001B[43m,\u001B[49m\n\u001B[0;32m    315\u001B[0m \u001B[43m    \u001B[49m\u001B[38;5;28;43mself\u001B[39;49m\u001B[38;5;241;43m.\u001B[39;49m\u001B[43m_config\u001B[49m\u001B[38;5;241;43m.\u001B[39;49m\u001B[43mimpersonated_user\u001B[49m\u001B[43m,\u001B[49m\u001B[43m \u001B[49m\u001B[38;5;28;43mself\u001B[39;49m\u001B[38;5;241;43m.\u001B[39;49m\u001B[43m_config\u001B[49m\u001B[38;5;241;43m.\u001B[39;49m\u001B[43mdefault_access_mode\u001B[49m\u001B[43m,\u001B[49m\n\u001B[0;32m    316\u001B[0m \u001B[43m    \u001B[49m\u001B[43mbookmarks\u001B[49m\u001B[43m,\u001B[49m\u001B[43m \u001B[49m\u001B[38;5;28;43mself\u001B[39;49m\u001B[38;5;241;43m.\u001B[39;49m\u001B[43m_config\u001B[49m\u001B[38;5;241;43m.\u001B[39;49m\u001B[43mnotifications_min_severity\u001B[49m\u001B[43m,\u001B[49m\n\u001B[0;32m    317\u001B[0m \u001B[43m    \u001B[49m\u001B[38;5;28;43mself\u001B[39;49m\u001B[38;5;241;43m.\u001B[39;49m\u001B[43m_config\u001B[49m\u001B[38;5;241;43m.\u001B[39;49m\u001B[43mnotifications_disabled_categories\u001B[49m\u001B[43m,\u001B[49m\n\u001B[0;32m    318\u001B[0m \u001B[43m\u001B[49m\u001B[43m)\u001B[49m\n\u001B[0;32m    320\u001B[0m \u001B[38;5;28;01mreturn\u001B[39;00m \u001B[38;5;28mself\u001B[39m\u001B[38;5;241m.\u001B[39m_auto_result\n",
      "File \u001B[1;32m~\\OneDrive\\Documents\\Polytech\\S8\\INFO834\\TP3\\venv\\bin\\python\\Lib\\site-packages\\neo4j\\_sync\\work\\result.py:181\u001B[0m, in \u001B[0;36mResult._run\u001B[1;34m(self, query, parameters, db, imp_user, access_mode, bookmarks, notifications_min_severity, notifications_disabled_categories)\u001B[0m\n\u001B[0;32m    179\u001B[0m \u001B[38;5;28mself\u001B[39m\u001B[38;5;241m.\u001B[39m_pull()\n\u001B[0;32m    180\u001B[0m \u001B[38;5;28mself\u001B[39m\u001B[38;5;241m.\u001B[39m_connection\u001B[38;5;241m.\u001B[39msend_all()\n\u001B[1;32m--> 181\u001B[0m \u001B[38;5;28;43mself\u001B[39;49m\u001B[38;5;241;43m.\u001B[39;49m\u001B[43m_attach\u001B[49m\u001B[43m(\u001B[49m\u001B[43m)\u001B[49m\n",
      "File \u001B[1;32m~\\OneDrive\\Documents\\Polytech\\S8\\INFO834\\TP3\\venv\\bin\\python\\Lib\\site-packages\\neo4j\\_sync\\work\\result.py:301\u001B[0m, in \u001B[0;36mResult._attach\u001B[1;34m(self)\u001B[0m\n\u001B[0;32m    299\u001B[0m \u001B[38;5;28;01mif\u001B[39;00m \u001B[38;5;28mself\u001B[39m\u001B[38;5;241m.\u001B[39m_exhausted \u001B[38;5;129;01mis\u001B[39;00m \u001B[38;5;28;01mFalse\u001B[39;00m:\n\u001B[0;32m    300\u001B[0m     \u001B[38;5;28;01mwhile\u001B[39;00m \u001B[38;5;28mself\u001B[39m\u001B[38;5;241m.\u001B[39m_attached \u001B[38;5;129;01mis\u001B[39;00m \u001B[38;5;28;01mFalse\u001B[39;00m:\n\u001B[1;32m--> 301\u001B[0m         \u001B[38;5;28;43mself\u001B[39;49m\u001B[38;5;241;43m.\u001B[39;49m\u001B[43m_connection\u001B[49m\u001B[38;5;241;43m.\u001B[39;49m\u001B[43mfetch_message\u001B[49m\u001B[43m(\u001B[49m\u001B[43m)\u001B[49m\n",
      "File \u001B[1;32m~\\OneDrive\\Documents\\Polytech\\S8\\INFO834\\TP3\\venv\\bin\\python\\Lib\\site-packages\\neo4j\\_sync\\io\\_common.py:178\u001B[0m, in \u001B[0;36mConnectionErrorHandler.__getattr__.<locals>.outer.<locals>.inner\u001B[1;34m(*args, **kwargs)\u001B[0m\n\u001B[0;32m    176\u001B[0m \u001B[38;5;28;01mdef\u001B[39;00m \u001B[38;5;21minner\u001B[39m(\u001B[38;5;241m*\u001B[39margs, \u001B[38;5;241m*\u001B[39m\u001B[38;5;241m*\u001B[39mkwargs):\n\u001B[0;32m    177\u001B[0m     \u001B[38;5;28;01mtry\u001B[39;00m:\n\u001B[1;32m--> 178\u001B[0m         \u001B[43mfunc\u001B[49m\u001B[43m(\u001B[49m\u001B[38;5;241;43m*\u001B[39;49m\u001B[43margs\u001B[49m\u001B[43m,\u001B[49m\u001B[43m \u001B[49m\u001B[38;5;241;43m*\u001B[39;49m\u001B[38;5;241;43m*\u001B[39;49m\u001B[43mkwargs\u001B[49m\u001B[43m)\u001B[49m\n\u001B[0;32m    179\u001B[0m     \u001B[38;5;28;01mexcept\u001B[39;00m (Neo4jError, ServiceUnavailable, SessionExpired) \u001B[38;5;28;01mas\u001B[39;00m exc:\n\u001B[0;32m    180\u001B[0m         \u001B[38;5;28;01massert\u001B[39;00m \u001B[38;5;129;01mnot\u001B[39;00m asyncio\u001B[38;5;241m.\u001B[39miscoroutinefunction(\u001B[38;5;28mself\u001B[39m\u001B[38;5;241m.\u001B[39m__on_error)\n",
      "File \u001B[1;32m~\\OneDrive\\Documents\\Polytech\\S8\\INFO834\\TP3\\venv\\bin\\python\\Lib\\site-packages\\neo4j\\_sync\\io\\_bolt.py:849\u001B[0m, in \u001B[0;36mBolt.fetch_message\u001B[1;34m(self)\u001B[0m\n\u001B[0;32m    845\u001B[0m \u001B[38;5;66;03m# Receive exactly one message\u001B[39;00m\n\u001B[0;32m    846\u001B[0m tag, fields \u001B[38;5;241m=\u001B[39m \u001B[38;5;28mself\u001B[39m\u001B[38;5;241m.\u001B[39minbox\u001B[38;5;241m.\u001B[39mpop(\n\u001B[0;32m    847\u001B[0m     hydration_hooks\u001B[38;5;241m=\u001B[39m\u001B[38;5;28mself\u001B[39m\u001B[38;5;241m.\u001B[39mresponses[\u001B[38;5;241m0\u001B[39m]\u001B[38;5;241m.\u001B[39mhydration_hooks\n\u001B[0;32m    848\u001B[0m )\n\u001B[1;32m--> 849\u001B[0m res \u001B[38;5;241m=\u001B[39m \u001B[38;5;28;43mself\u001B[39;49m\u001B[38;5;241;43m.\u001B[39;49m\u001B[43m_process_message\u001B[49m\u001B[43m(\u001B[49m\u001B[43mtag\u001B[49m\u001B[43m,\u001B[49m\u001B[43m \u001B[49m\u001B[43mfields\u001B[49m\u001B[43m)\u001B[49m\n\u001B[0;32m    850\u001B[0m \u001B[38;5;28mself\u001B[39m\u001B[38;5;241m.\u001B[39midle_since \u001B[38;5;241m=\u001B[39m monotonic()\n\u001B[0;32m    851\u001B[0m \u001B[38;5;28;01mreturn\u001B[39;00m res\n",
      "File \u001B[1;32m~\\OneDrive\\Documents\\Polytech\\S8\\INFO834\\TP3\\venv\\bin\\python\\Lib\\site-packages\\neo4j\\_sync\\io\\_bolt5.py:369\u001B[0m, in \u001B[0;36mBolt5x0._process_message\u001B[1;34m(self, tag, fields)\u001B[0m\n\u001B[0;32m    367\u001B[0m \u001B[38;5;28mself\u001B[39m\u001B[38;5;241m.\u001B[39m_server_state_manager\u001B[38;5;241m.\u001B[39mstate \u001B[38;5;241m=\u001B[39m \u001B[38;5;28mself\u001B[39m\u001B[38;5;241m.\u001B[39mbolt_states\u001B[38;5;241m.\u001B[39mFAILED\n\u001B[0;32m    368\u001B[0m \u001B[38;5;28;01mtry\u001B[39;00m:\n\u001B[1;32m--> 369\u001B[0m     \u001B[43mresponse\u001B[49m\u001B[38;5;241;43m.\u001B[39;49m\u001B[43mon_failure\u001B[49m\u001B[43m(\u001B[49m\u001B[43msummary_metadata\u001B[49m\u001B[43m \u001B[49m\u001B[38;5;129;43;01mor\u001B[39;49;00m\u001B[43m \u001B[49m\u001B[43m{\u001B[49m\u001B[43m}\u001B[49m\u001B[43m)\u001B[49m\n\u001B[0;32m    370\u001B[0m \u001B[38;5;28;01mexcept\u001B[39;00m (ServiceUnavailable, DatabaseUnavailable):\n\u001B[0;32m    371\u001B[0m     \u001B[38;5;28;01mif\u001B[39;00m \u001B[38;5;28mself\u001B[39m\u001B[38;5;241m.\u001B[39mpool:\n",
      "File \u001B[1;32m~\\OneDrive\\Documents\\Polytech\\S8\\INFO834\\TP3\\venv\\bin\\python\\Lib\\site-packages\\neo4j\\_sync\\io\\_common.py:245\u001B[0m, in \u001B[0;36mResponse.on_failure\u001B[1;34m(self, metadata)\u001B[0m\n\u001B[0;32m    243\u001B[0m handler \u001B[38;5;241m=\u001B[39m \u001B[38;5;28mself\u001B[39m\u001B[38;5;241m.\u001B[39mhandlers\u001B[38;5;241m.\u001B[39mget(\u001B[38;5;124m\"\u001B[39m\u001B[38;5;124mon_summary\u001B[39m\u001B[38;5;124m\"\u001B[39m)\n\u001B[0;32m    244\u001B[0m Util\u001B[38;5;241m.\u001B[39mcallback(handler)\n\u001B[1;32m--> 245\u001B[0m \u001B[38;5;28;01mraise\u001B[39;00m Neo4jError\u001B[38;5;241m.\u001B[39mhydrate(\u001B[38;5;241m*\u001B[39m\u001B[38;5;241m*\u001B[39mmetadata)\n",
      "\u001B[1;31mClientError\u001B[0m: {code: Neo.ClientError.Statement.SemanticError} {message: Cannot merge the following node because of NaN property value for 'latitude': (:Ville {latitude: NaN})}"
     ]
    }
   ],
   "source": [
    "def create_cities(dfCities):\n",
    "    \"\"\"\n",
    "    Créé les nœuds ville à partir d'un dataframe et les relie aux départements\n",
    "    \"\"\"\n",
    "    with graphDB_Driver.session() as session:\n",
    "        for _, city_data in dfCities.iterrows():\n",
    "            query = (\n",
    "                \"MERGE (v:Ville {name: $nom_commune_postal, \"\n",
    "                \"code_commune_INSEE: $code_commune_INSEE, \"\n",
    "                \"code_postal: $code_postal, \"\n",
    "                \"libelle_acheminement: $libelle_acheminement, \"\n",
    "                \"latitude: $latitude, \"\n",
    "                \"longitude: $longitude, \"\n",
    "                \"code_commune: $code_commune, \"\n",
    "                \"nom_commune_complet: $nom_commune_complet})\"\n",
    "            )\n",
    "            session.run(query, **city_data.to_dict())\n",
    "            \n",
    "            relationship_query = (\n",
    "                \"MATCH (v:Ville {code_commune_INSEE: $code_commune_INSEE})\"\n",
    "                \"MATCH (d:Department {code: $departmentCode})\"\n",
    "                \"MERGE (v)-[:IN]->(d)\"\n",
    "            )\n",
    "            session.run(relationship_query, code_commune_INSEE=city_data[\"code_commune_INSEE\"], departmentCode=city_data[\"code_departement\"])\n",
    "\n",
    "create_cities(villes)"
   ],
   "metadata": {
    "collapsed": false,
    "ExecuteTime": {
     "end_time": "2024-02-12T10:57:29.321951500Z",
     "start_time": "2024-02-12T10:52:10.774445200Z"
    }
   },
   "id": "a49b33fa768f3817"
  },
  {
   "cell_type": "code",
   "execution_count": null,
   "outputs": [],
   "source": [],
   "metadata": {
    "collapsed": false,
    "ExecuteTime": {
     "start_time": "2024-02-12T10:57:29.316951400Z"
    }
   },
   "id": "c32f4149caa54cde"
  }
 ],
 "metadata": {
  "kernelspec": {
   "display_name": "Python 3",
   "language": "python",
   "name": "python3"
  },
  "language_info": {
   "codemirror_mode": {
    "name": "ipython",
    "version": 2
   },
   "file_extension": ".py",
   "mimetype": "text/x-python",
   "name": "python",
   "nbconvert_exporter": "python",
   "pygments_lexer": "ipython2",
   "version": "2.7.6"
  }
 },
 "nbformat": 4,
 "nbformat_minor": 5
}
